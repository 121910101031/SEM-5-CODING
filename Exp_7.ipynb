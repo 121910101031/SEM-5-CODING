{
  "nbformat": 4,
  "nbformat_minor": 0,
  "metadata": {
    "colab": {
      "name": " Exp-7",
      "provenance": [],
      "authorship_tag": "ABX9TyM4zQUmSm3czQRlSy9UNzoY",
      "include_colab_link": true
    },
    "kernelspec": {
      "name": "python3",
      "display_name": "Python 3"
    },
    "language_info": {
      "name": "python"
    }
  },
  "cells": [
    {
      "cell_type": "markdown",
      "metadata": {
        "id": "view-in-github",
        "colab_type": "text"
      },
      "source": [
        "<a href=\"https://colab.research.google.com/github/121910101031/SEM-5-CODING/blob/main/Exp_7.ipynb\" target=\"_parent\"><img src=\"https://colab.research.google.com/assets/colab-badge.svg\" alt=\"Open In Colab\"/></a>"
      ]
    },
    {
      "cell_type": "code",
      "metadata": {
        "colab": {
          "base_uri": "https://localhost:8080/"
        },
        "id": "efu49Z87Sgq0",
        "outputId": "a7f8c64b-c395-4a62-b7b9-51d763328c3e"
      },
      "source": [
        "#1\n",
        "\n",
        "def probability(a,b):\n",
        "  p=(a/b)\n",
        "  print(\"probability is :\",p)\n",
        "\n",
        "\n",
        "x=int(input(\"enter number of required outcomes :\"))\n",
        "y=int(input(\"enter total number of outcomes :\"))\n",
        "probability(x,y)"
      ],
      "execution_count": 1,
      "outputs": [
        {
          "output_type": "stream",
          "name": "stdout",
          "text": [
            "enter number of required outcomes :4\n",
            "enter total number of outcomes :60\n",
            "probability is : 0.06666666666666667\n"
          ]
        }
      ]
    },
    {
      "cell_type": "code",
      "metadata": {
        "colab": {
          "base_uri": "https://localhost:8080/"
        },
        "id": "Fgo-RN_LTIGS",
        "outputId": "3f366b69-c37a-4173-8b1f-efb873ee39ca"
      },
      "source": [
        "#2\n",
        "\n",
        "def probability(a,b):\n",
        "  p=(a/b)\n",
        "  print(\"probability is :\",p)\n",
        "\n",
        "\n",
        "x= 13\n",
        "y= 52\n",
        "probability(x,y)\n"
      ],
      "execution_count": 2,
      "outputs": [
        {
          "output_type": "stream",
          "name": "stdout",
          "text": [
            "probability is : 0.25\n"
          ]
        }
      ]
    },
    {
      "cell_type": "code",
      "metadata": {
        "colab": {
          "base_uri": "https://localhost:8080/"
        },
        "id": "tP12whMZTNub",
        "outputId": "0ace8580-4b66-4629-a6aa-160f9dacb654"
      },
      "source": [
        "#3\n",
        "\n",
        "a={1,3,5}\n",
        "b={1,2,3}\n",
        "s={1,2,3,4,5,6}\n",
        "p=(len(a)+len(b) - len(a.intersection(b)))/len(s)\n",
        "print(\"probability is : \",p)\n"
      ],
      "execution_count": 3,
      "outputs": [
        {
          "output_type": "stream",
          "name": "stdout",
          "text": [
            "probability is :  0.6666666666666666\n"
          ]
        }
      ]
    },
    {
      "cell_type": "code",
      "metadata": {
        "colab": {
          "base_uri": "https://localhost:8080/"
        },
        "id": "QHXsJhz3TXfS",
        "outputId": "6388ddac-f101-40db-c683-005060f97920"
      },
      "source": [
        "#4\n",
        "\n",
        "def probability(a,b):\n",
        "  p=(a/b)\n",
        "  print(\"probability is :\",p)\n",
        "\n",
        "\n",
        "x= 1\n",
        "y= 52\n",
        "probability(x,y)\n"
      ],
      "execution_count": 4,
      "outputs": [
        {
          "output_type": "stream",
          "name": "stdout",
          "text": [
            "probability is : 0.019230769230769232\n"
          ]
        }
      ]
    }
  ]
}