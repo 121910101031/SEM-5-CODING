{
  "nbformat": 4,
  "nbformat_minor": 0,
  "metadata": {
    "colab": {
      "name": " CSD mid-1.ipynb",
      "provenance": [],
      "authorship_tag": "ABX9TyNXwzSZ9ZsiGA3VaOqLTlMn",
      "include_colab_link": true
    },
    "kernelspec": {
      "name": "python3",
      "display_name": "Python 3"
    },
    "language_info": {
      "name": "python"
    }
  },
  "cells": [
    {
      "cell_type": "markdown",
      "metadata": {
        "id": "view-in-github",
        "colab_type": "text"
      },
      "source": [
        "<a href=\"https://colab.research.google.com/github/121910101031/SEM-5-CODING/blob/main/CSD_mid_1.ipynb\" target=\"_parent\"><img src=\"https://colab.research.google.com/assets/colab-badge.svg\" alt=\"Open In Colab\"/></a>"
      ]
    },
    {
      "cell_type": "code",
      "metadata": {
        "colab": {
          "base_uri": "https://localhost:8080/"
        },
        "id": "pt1t909vSMqC",
        "outputId": "5fa0de6e-8741-4458-d893-c1b60fb3eac5"
      },
      "source": [
        "# case 1\n",
        "def fact(n):\n",
        "  if n==0:\n",
        "    return 1\n",
        "  else:\n",
        "    return n*fact(n-1)\n",
        "\n",
        "N = int(input(\"Total number of screws: \"))\n",
        "K = int(input(\"Number of defective screws: \"))\n",
        "D = int(input(\"Number of screws picked: \"))\n",
        "\n",
        "prob = round((fact(N-K)/(fact((N-K)-D)*fact(D)))/(fact(N)/((fact(N-D))*fact(D))),2)\n",
        "\n",
        "print(\"The probability of picking 2 perfect screws is: \", prob)"
      ],
      "execution_count": 1,
      "outputs": [
        {
          "output_type": "stream",
          "name": "stdout",
          "text": [
            "Total number of screws: 10\n",
            "Number of defective screws: 3\n",
            "Number of screws picked: 2\n",
            "The probability of picking 2 perfect screws is:  0.47\n"
          ]
        }
      ]
    },
    {
      "cell_type": "code",
      "metadata": {
        "colab": {
          "base_uri": "https://localhost:8080/"
        },
        "id": "n_oStVSYUCA0",
        "outputId": "c0533c40-fff0-4a18-90b9-d04513d6b2ed"
      },
      "source": [
        "# case 2\n",
        "def fact(n):\n",
        "  if n==0:\n",
        "    return 1\n",
        "  else:\n",
        "    return n*fact(n-1)\n",
        "\n",
        "N = int(input(\"Total number of screws: \"))\n",
        "K = int(input(\"Number of defective screws: \"))\n",
        "D = int(input(\"Number of screws picked: \"))\n",
        "\n",
        "prob = round((fact(N-K)/(fact((N-K)-D)*fact(D)))/(fact(N)/((fact(N-D))*fact(D))),2)\n",
        "\n",
        "print(\"The probability of picking 2 perfect screws is: \", prob)"
      ],
      "execution_count": 2,
      "outputs": [
        {
          "output_type": "stream",
          "name": "stdout",
          "text": [
            "Total number of screws: 15\n",
            "Number of defective screws: 4\n",
            "Number of screws picked: 2\n",
            "The probability of picking 2 perfect screws is:  0.52\n"
          ]
        }
      ]
    }
  ]
}