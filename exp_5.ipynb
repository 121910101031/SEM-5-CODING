{
  "nbformat": 4,
  "nbformat_minor": 0,
  "metadata": {
    "colab": {
      "name": "exp-5  ",
      "provenance": [],
      "authorship_tag": "ABX9TyPFCu8kBhIkBc12xQlFBaMK",
      "include_colab_link": true
    },
    "kernelspec": {
      "name": "python3",
      "display_name": "Python 3"
    },
    "language_info": {
      "name": "python"
    }
  },
  "cells": [
    {
      "cell_type": "markdown",
      "metadata": {
        "id": "view-in-github",
        "colab_type": "text"
      },
      "source": [
        "<a href=\"https://colab.research.google.com/github/121910101031/SEM-5-CODING/blob/main/exp_5.ipynb\" target=\"_parent\"><img src=\"https://colab.research.google.com/assets/colab-badge.svg\" alt=\"Open In Colab\"/></a>"
      ]
    },
    {
      "cell_type": "code",
      "metadata": {
        "colab": {
          "base_uri": "https://localhost:8080/"
        },
        "id": "RXwsN-JAfPEW",
        "outputId": "860f40c2-94af-4a69-d16f-a22679a39764"
      },
      "source": [
        "A = {1,2,3,4,5}\n",
        "B = {5,6,7}\n",
        "\n",
        "print(2 in A)\n",
        "\n",
        "type(2 in A)\n"
      ],
      "execution_count": null,
      "outputs": [
        {
          "output_type": "stream",
          "name": "stdout",
          "text": [
            "True\n"
          ]
        },
        {
          "output_type": "execute_result",
          "data": {
            "text/plain": [
              "bool"
            ]
          },
          "metadata": {},
          "execution_count": 1
        }
      ]
    },
    {
      "cell_type": "code",
      "metadata": {
        "colab": {
          "base_uri": "https://localhost:8080/"
        },
        "id": "i3etocxSfr63",
        "outputId": "39bfd638-cd43-4702-f415-00397e5b64f8"
      },
      "source": [
        "A = {1,2,3,4,5}\n",
        "B = {5,6,7}\n",
        "\n",
        "B.issubset(A)"
      ],
      "execution_count": null,
      "outputs": [
        {
          "output_type": "execute_result",
          "data": {
            "text/plain": [
              "False"
            ]
          },
          "metadata": {},
          "execution_count": 2
        }
      ]
    },
    {
      "cell_type": "code",
      "metadata": {
        "colab": {
          "base_uri": "https://localhost:8080/"
        },
        "id": "ReZBG_A1fxDc",
        "outputId": "0690ee95-19bd-4485-894c-6c402b1f6e08"
      },
      "source": [
        "def is_subset(A,B):\n",
        "   for  e in A:\n",
        "     if e in B:\n",
        "       pass\n",
        "     \n",
        "     else:\n",
        "     \n",
        "       return False\n",
        "   \n",
        "   \n",
        "   return True\n",
        "\n",
        "\n",
        "\n",
        "     \n",
        "A = {1,2,3,4,5}\n",
        "B = {5,6,7}\n",
        "\n",
        "sub = is_subset(A,B)\n",
        "\n",
        "print(sub)"
      ],
      "execution_count": null,
      "outputs": [
        {
          "output_type": "stream",
          "name": "stdout",
          "text": [
            "False\n"
          ]
        }
      ]
    },
    {
      "cell_type": "code",
      "metadata": {
        "colab": {
          "base_uri": "https://localhost:8080/"
        },
        "id": "KOY7eVwZf3Fv",
        "outputId": "6cb399b1-c743-4f4b-fc4e-78d38835ae94"
      },
      "source": [
        "import numpy as np\n",
        "\n",
        "uni = set(np.arange(10))\n",
        "A = set(np.arange(0,9,2))\n",
        "B = set(np.arange(0,9,3))\n",
        "\n",
        "print(\"\\nUniversal Set: \",uni)\n",
        "print(\"\\nSet: \", A)\n",
        "print(\"\\nSet: \",B)\n",
        "\n",
        "A.union(B)"
      ],
      "execution_count": null,
      "outputs": [
        {
          "output_type": "stream",
          "name": "stdout",
          "text": [
            "\n",
            "Universal Set:  {0, 1, 2, 3, 4, 5, 6, 7, 8, 9}\n",
            "\n",
            "Set:  {0, 2, 4, 6, 8}\n",
            "\n",
            "Set:  {0, 3, 6}\n"
          ]
        },
        {
          "output_type": "execute_result",
          "data": {
            "text/plain": [
              "{0, 2, 3, 4, 6, 8}"
            ]
          },
          "metadata": {},
          "execution_count": 4
        }
      ]
    }
  ]
}