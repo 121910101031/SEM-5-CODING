{
  "nbformat": 4,
  "nbformat_minor": 0,
  "metadata": {
    "colab": {
      "name": "exp 10 ",
      "provenance": [],
      "authorship_tag": "ABX9TyMdU6+Th6hKtiXwQTdDxQDa",
      "include_colab_link": true
    },
    "kernelspec": {
      "name": "python3",
      "display_name": "Python 3"
    },
    "language_info": {
      "name": "python"
    }
  },
  "cells": [
    {
      "cell_type": "markdown",
      "metadata": {
        "id": "view-in-github",
        "colab_type": "text"
      },
      "source": [
        "<a href=\"https://colab.research.google.com/github/121910101031/SEM-5-CODING/blob/main/exp_10.ipynb\" target=\"_parent\"><img src=\"https://colab.research.google.com/assets/colab-badge.svg\" alt=\"Open In Colab\"/></a>"
      ]
    },
    {
      "cell_type": "code",
      "metadata": {
        "colab": {
          "base_uri": "https://localhost:8080/"
        },
        "id": "6oV0V181veek",
        "outputId": "0991bf71-1209-4546-f278-cbb5e576fe53"
      },
      "source": [
        "#hashing using list\n",
        "\n",
        "import csv\n",
        "exp =[]\n",
        "\n",
        "with open('/content/exp.csv','r') as f:\n",
        "  for line in f:\n",
        "    token = line.split(',')\n",
        "    day = token[0]\n",
        "    price= token[1]\n",
        "    exp.append([day,price])    \n",
        "print(\"\\n\",  exp)\n",
        "print(\"\\n\", exp[1])\n",
        "\n",
        "for element in exp:\n",
        "  if element[0]==\"Sep 24\":\n",
        "    print(\"\\n\", element[1])"
      ],
      "execution_count": 4,
      "outputs": [
        {
          "output_type": "stream",
          "name": "stdout",
          "text": [
            "\n",
            " [['Jan 24', '143\\n'], ['Mar 24', '341\\n'], ['May 24', '431\\n'], ['Jul 24', '314\\n'], ['Sep 24', '111']]\n",
            "\n",
            " ['Mar 24', '341\\n']\n",
            "\n",
            " 111\n"
          ]
        }
      ]
    }
  ]
}