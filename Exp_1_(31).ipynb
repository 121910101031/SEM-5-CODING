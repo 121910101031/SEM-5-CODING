{
  "nbformat": 4,
  "nbformat_minor": 0,
  "metadata": {
    "colab": {
      "name": "Exp 1 (31)",
      "provenance": [],
      "authorship_tag": "ABX9TyOpSdrLbFOA+ydM/G0COIDH",
      "include_colab_link": true
    },
    "kernelspec": {
      "name": "python3",
      "display_name": "Python 3"
    },
    "language_info": {
      "name": "python"
    }
  },
  "cells": [
    {
      "cell_type": "markdown",
      "metadata": {
        "id": "view-in-github",
        "colab_type": "text"
      },
      "source": [
        "<a href=\"https://colab.research.google.com/github/121910101031/SEM-5-CODING/blob/main/Exp_1_(31).ipynb\" target=\"_parent\"><img src=\"https://colab.research.google.com/assets/colab-badge.svg\" alt=\"Open In Colab\"/></a>"
      ]
    },
    {
      "cell_type": "code",
      "metadata": {
        "colab": {
          "base_uri": "https://localhost:8080/"
        },
        "id": "QYeL_-bGtp-5",
        "outputId": "456d6395-9618-4ee3-ab44-1687df9ab9d5"
      },
      "source": [
        "n = len(input(\"Enter the String:\"))\n",
        "r = int(input(\"Enter the number of  Letters allowed:\"))\n",
        "\n",
        "p = n**r\n",
        "\n",
        "print(\"The Permutation for the given problem is:\",p)"
      ],
      "execution_count": null,
      "outputs": [
        {
          "output_type": "stream",
          "text": [
            "Enter the String:popular \n",
            "Enter the number of  Letters allowed:3\n",
            "The Permutation for the given problem is: 512\n"
          ],
          "name": "stdout"
        }
      ]
    },
    {
      "cell_type": "code",
      "metadata": {
        "colab": {
          "base_uri": "https://localhost:8080/"
        },
        "id": "PTYltuRFuUtc",
        "outputId": "561f0c0d-5906-4cb6-99fe-39b67bf57aa8"
      },
      "source": [
        "def fact(n):\n",
        "\n",
        "  if n == 0:\n",
        "    return 1\n",
        "  else:\n",
        "    return(n*fact(n-1))\n",
        "\n",
        "n = len(input(\"Enter the String:\"))\n",
        "r = int(input(\"Enter the number of letters allowed:\"))\n",
        "p=fact(n)/fact(n-r)\n",
        "print(\"The permutation for the given problem is:\",p)"
      ],
      "execution_count": null,
      "outputs": [
        {
          "output_type": "stream",
          "text": [
            "Enter the String:great\n",
            "Enter the number of letters allowed:2\n",
            "The permutation for the given problem is: 20.0\n"
          ],
          "name": "stdout"
        }
      ]
    }
  ]
}