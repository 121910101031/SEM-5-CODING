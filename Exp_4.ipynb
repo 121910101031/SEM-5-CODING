{
  "nbformat": 4,
  "nbformat_minor": 0,
  "metadata": {
    "colab": {
      "name": "Exp-4 ",
      "provenance": [],
      "authorship_tag": "ABX9TyOwCqPJRqc0aIotw3pTrAId",
      "include_colab_link": true
    },
    "kernelspec": {
      "name": "python3",
      "display_name": "Python 3"
    },
    "language_info": {
      "name": "python"
    }
  },
  "cells": [
    {
      "cell_type": "markdown",
      "metadata": {
        "id": "view-in-github",
        "colab_type": "text"
      },
      "source": [
        "<a href=\"https://colab.research.google.com/github/121910101031/SEM-5-CODING/blob/main/Exp_4.ipynb\" target=\"_parent\"><img src=\"https://colab.research.google.com/assets/colab-badge.svg\" alt=\"Open In Colab\"/></a>"
      ]
    },
    {
      "cell_type": "code",
      "metadata": {
        "colab": {
          "base_uri": "https://localhost:8080/"
        },
        "id": "JEzsPQSng_oE",
        "outputId": "307aca1a-3d9e-4bca-bd6d-7a49313818c1"
      },
      "source": [
        "def fact(n):\n",
        " if n==0:\n",
        "   return 1\n",
        " else:\n",
        "   return n*fact(n-1)\n",
        "n= int(input(\"enter total :\"))\n",
        "r=int(input(\"enter allowed :\"))\n",
        "c= fact(n)/(fact(r)*fact(n-r))\n",
        "print(c)"
      ],
      "execution_count": null,
      "outputs": [
        {
          "output_type": "stream",
          "text": [
            "enter total :7\n",
            "enter allowed :4\n",
            "35.0\n"
          ],
          "name": "stdout"
        }
      ]
    },
    {
      "cell_type": "code",
      "metadata": {
        "colab": {
          "base_uri": "https://localhost:8080/"
        },
        "id": "tJcpWjRnhoZq",
        "outputId": "5113ba67-4bb3-4935-a40b-a50887cca3f2"
      },
      "source": [
        "def fact(n):\n",
        " if n==0:\n",
        "   return 1\n",
        " else:\n",
        "   return n*fact(n-1)\n",
        "n= int(input(\"enter total :\"))\n",
        "r=int(input(\"enter allowed :\"))\n",
        "c= fact(n)/(fact(r)*fact(n-r))\n",
        "print(c)"
      ],
      "execution_count": null,
      "outputs": [
        {
          "output_type": "stream",
          "text": [
            "enter total :4\n",
            "enter allowed :2\n",
            "6.0\n"
          ],
          "name": "stdout"
        }
      ]
    },
    {
      "cell_type": "code",
      "metadata": {
        "colab": {
          "base_uri": "https://localhost:8080/"
        },
        "id": "pXJ0OMUPh6AE",
        "outputId": "17bd77af-e803-4f8e-f5fc-ae67ea842b4d"
      },
      "source": [
        "def fact(n):\n",
        " if n==0:\n",
        "   return 1\n",
        " else:\n",
        "   return n*fact(n-1)\n",
        "n= int(input(\"enter total conso :\"))\n",
        "r=int(input(\"enter allowed :\"))\n",
        "a= int(input(\"enter total vowels :\"))\n",
        "b=int(input(\"enter allowed vowels :\"))\n",
        "c= fact(n)/(fact(r)*fact(n-r))*fact(a)/(fact(b)*fact(a-b))\n",
        "print(c)"
      ],
      "execution_count": null,
      "outputs": [
        {
          "output_type": "stream",
          "text": [
            "enter total conso :7\n",
            "enter allowed :4\n",
            "enter total vowels :4\n",
            "enter allowed vowels :2\n",
            "210.0\n"
          ],
          "name": "stdout"
        }
      ]
    }
  ]
}